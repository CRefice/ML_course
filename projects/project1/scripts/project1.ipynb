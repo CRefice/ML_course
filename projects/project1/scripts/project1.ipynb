{
 "cells": [
  {
   "cell_type": "code",
   "execution_count": 99,
   "metadata": {},
   "outputs": [
    {
     "name": "stdout",
     "output_type": "stream",
     "text": [
      "The autoreload extension is already loaded. To reload it, use:\n",
      "  %reload_ext autoreload\n"
     ]
    }
   ],
   "source": [
    "# Useful starting lines\n",
    "%matplotlib inline\n",
    "import numpy as np\n",
    "import matplotlib.pyplot as plt\n",
    "from proj1_helpers import *\n",
    "import pandas as pd\n",
    "%load_ext autoreload\n",
    "%autoreload 2"
   ]
  },
  {
   "cell_type": "markdown",
   "metadata": {},
   "source": [
    "# Load the training data into feature matrix, class labels, and event ids:"
   ]
  },
  {
   "cell_type": "code",
   "execution_count": 100,
   "metadata": {
    "jupyter": {
     "outputs_hidden": false
    }
   },
   "outputs": [],
   "source": [
    "DATA_TRAIN_PATH = \"../data/train.csv\"\n",
    "labels, data, ids = load_csv_data(DATA_TRAIN_PATH)"
   ]
  },
  {
   "cell_type": "code",
   "execution_count": 101,
   "metadata": {},
   "outputs": [],
   "source": [
    "feature_names = [\"DER_mass_MMC\",\"DER_mass_transverse_met_lep\",\"DER_mass_vis\",\"DER_pt_h\",\"DER_deltaeta_jet_jet\",\"DER_mass_jet_jet\",\"DER_prodeta_jet_jet\",\"DER_deltar_tau_lep\",\"DER_pt_tot\",\"DER_sum_pt\",\"DER_pt_ratio_lep_tau\",\"DER_met_phi_centrality\",\"DER_lep_eta_centrality\",\"PRI_tau_pt\",\"PRI_tau_eta\",\"PRI_tau_phi\",\"PRI_lep_pt\",\"PRI_lep_eta\",\"PRI_lep_phi\",\"PRI_met\",\"PRI_met_phi\",\"PRI_met_sumet\",\"PRI_jet_num\",\"PRI_jet_leading_pt\",\"PRI_jet_leading_eta\",\"PRI_jet_leading_phi\",\"PRI_jet_subleading_pt\",\"PRI_jet_subleading_eta\",\"PRI_jet_subleading_phi\",\"PRI_jet_all_pt\"]\n",
    "categorical_variable = feature_names.index(\"PRI_jet_num\")"
   ]
  },
  {
   "cell_type": "markdown",
   "metadata": {},
   "source": [
    "# Exploratory data analysis"
   ]
  },
  {
   "cell_type": "markdown",
   "metadata": {},
   "source": [
    "How many events are there compared to non-events?"
   ]
  },
  {
   "cell_type": "code",
   "execution_count": 4,
   "metadata": {},
   "outputs": [
    {
     "data": {
      "image/png": "[encoded data removed]",
      "text/plain": [
       "<Figure size 432x288 with 1 Axes>"
      ]
     },
     "metadata": {
      "needs_background": "light"
     },
     "output_type": "display_data"
    }
   ],
   "source": [
    "events = np.count_nonzero(labels == 1)\n",
    "nonevents = len(labels) - events\n",
    "plt.bar([\"Events\", \"Background\"], [events, nonevents])\n",
    "plt.show()"
   ]
  },
  {
   "cell_type": "markdown",
   "metadata": {},
   "source": [
    "There's roughly twice as many background noise as there are events in the training set. We have to be careful of this fact when using cross-validation."
   ]
  },
  {
   "cell_type": "markdown",
   "metadata": {},
   "source": [
    "How is it distributed with regards to PRI_jet_num?"
   ]
  },
  {
   "cell_type": "code",
   "execution_count": 5,
   "metadata": {},
   "outputs": [
    {
     "data": {
      "image/png": "[encoded data removed]",
      "text/plain": [
       "<Figure size 432x288 with 1 Axes>"
      ]
     },
     "metadata": {
      "needs_background": "light"
     },
     "output_type": "display_data"
    }
   ],
   "source": [
    "events = data[np.where(labels == 1)]\n",
    "nonevents = data[np.where(labels != 1)]\n",
    "\n",
    "unique, counts = np.unique(nonevents[:,categorical_variable], return_counts=True)\n",
    "plt.bar(unique, counts)\n",
    "_, counts2 = np.unique(events[:,categorical_variable], return_counts=True)\n",
    "plt.bar(unique, counts2, bottom=counts)\n",
    "plt.legend([\"Background\", \"Event\"])\n",
    "plt.title(\"Frequency of categorical variable PRI_jet_num\")\n",
    "plt.show()"
   ]
  },
  {
   "cell_type": "markdown",
   "metadata": {},
   "source": [
    "## Which features should be merged together?"
   ]
  },
  {
   "cell_type": "code",
   "execution_count": 6,
   "metadata": {},
   "outputs": [],
   "source": [
    "def generate_correlation_set(tX, t):\n",
    "    corr_set = set()\n",
    "    df = pd.DataFrame(tX)\n",
    "    corr = df.corr()\n",
    "    for i, row in enumerate(corr):\n",
    "        for j, col in enumerate(corr):\n",
    "            if i != j and corr.loc[i,j] > t:\n",
    "                corr_set.add((i,j))\n",
    "                \n",
    "    return _pairs_to_groups(corr_set)\n",
    "\n",
    "def _pairs_to_groups(pairs):\n",
    "    groups = set()\n",
    "    edges = _create_dict_from_tuples(pairs)\n",
    "    vertices = edges.keys()\n",
    "    done = set()\n",
    "\n",
    "    for vertex in vertices:\n",
    "        if vertex not in done:\n",
    "            groups.add(frozenset(_depth_first_search(vertex, edges, done)))\n",
    "\n",
    "    return groups\n",
    "\n",
    "def _depth_first_search(vertex, edges, done):\n",
    "    group = {vertex}\n",
    "    done.add(vertex)\n",
    "\n",
    "    for v_adj in edges[vertex]:\n",
    "        if v_adj not in done:\n",
    "            group.update(_depth_first_search(v_adj, edges, done))\n",
    "\n",
    "    return group\n",
    "\n",
    "def _create_dict_from_tuples(tuples):\n",
    "    dict_ = dict()\n",
    "\n",
    "    for x, y in tuples:\n",
    "        if x not in dict_:\n",
    "            dict_[x] = set()\n",
    "        dict_[x].add(y)\n",
    "\n",
    "    return dict_"
   ]
  },
  {
   "cell_type": "markdown",
   "metadata": {},
   "source": [
    "# Data processing"
   ]
  },
  {
   "cell_type": "markdown",
   "metadata": {},
   "source": [
    "There's a few different approaches we could take for feature processing:\n",
    "1. Divide the dataset into four, one for each categorical variable.\n",
    "2. Split the categorical variable into multiple boolean columns, one for each type it could be.\n",
    "\n",
    "Regardless, the data should be properly normalized beforehand (made exception for the categorical variable), as not normalizing it leads to overflows when running any sort of regression"
   ]
  },
  {
   "cell_type": "code",
   "execution_count": 7,
   "metadata": {},
   "outputs": [],
   "source": [
    "mean, std = np.mean(data, axis=0), np.std(data, axis=0)"
   ]
  },
  {
   "cell_type": "markdown",
   "metadata": {},
   "source": [
    "Logistic regression expects labels to be of the form {0, 1}.  \n",
    "Since the labels given to us are instead of the form {-1, 1}, we also need to normalize them to use logistic regression.\n",
    "Other forms of regression work well no matter the form of the labels, so we stick with {0, 1}"
   ]
  },
  {
   "cell_type": "code",
   "execution_count": 5,
   "metadata": {},
   "outputs": [],
   "source": [
    "def normalize_labels(labels):\n",
    "    return np.round((labels + 1) / 2)"
   ]
  },
  {
   "cell_type": "markdown",
   "metadata": {},
   "source": [
    "## Compare methods & Optimize hyperparameters\n",
    "Let's see which of the regression methods performs best using k-fold cross validation"
   ]
  },
  {
   "cell_type": "code",
   "execution_count": 102,
   "metadata": {},
   "outputs": [],
   "source": [
    "from validation import *\n",
    "from implementations import *\n",
    "\n",
    "y = normalize_labels(labels)\n",
    "tx = data"
   ]
  },
  {
   "cell_type": "code",
   "execution_count": 103,
   "metadata": {},
   "outputs": [],
   "source": [
    "k = 6\n",
    "indices = build_k_indices(len(y), k)\n",
    "# cross_validation(y, tx, indices,)"
   ]
  },
  {
   "cell_type": "code",
   "execution_count": 104,
   "metadata": {},
   "outputs": [],
   "source": [
    "def cartesian_product(x, y):\n",
    "    return np.transpose([np.tile(x, len(y)), np.repeat(y, len(x))])"
   ]
  },
  {
   "cell_type": "code",
   "execution_count": 110,
   "metadata": {},
   "outputs": [],
   "source": [
    "max_iters = 50\n",
    "initial_w = np.mean(tx,axis=0)\n",
    "gammas = [1*(10**-i) for i in range(1,6)]\n",
    "lambdas = np.logspace(-8, -2, 7)\n",
    "hyperparams = cartesian_product(gammas, lambdas)\n",
    "\n",
    "def gradient_descent(train_function):\n",
    "    return lambda y, tx, param: train_function(y, tx, initial_w, max_iters, param)\n",
    "\n",
    "def gradient_descent_multi(train_function):\n",
    "    return lambda y, tx, param: train_function(y, tx, initial_w, max_iters, *param)"
   ]
  },
  {
   "cell_type": "code",
   "execution_count": null,
   "metadata": {},
   "outputs": [
    {
     "name": "stdout",
     "output_type": "stream",
     "text": [
      "Best hyperparam for iteration 0: 0.1, acc: 0.36902458779222863\n",
      "Best hyperparam for iteration 1: 0.1, acc: 0.36903898917462097\n"
     ]
    }
   ],
   "source": [
    "k = 6\n",
    "indices = build_k_indices(len(y), k)\n",
    "method_results = {\n",
    "    'Least squares GD' : nested_cross_validation(y, tx, indices, gammas, gradient_descent(least_squares_GD)),\n",
    "    'Least squares SGD' : nested_cross_validation(y, tx, indices, gammas, gradient_descent(least_squares_SGD)),\n",
    "    'Explicit least squares' : cross_validation(y, tx, indices, least_squares),\n",
    "    'Ridge regression' : nested_cross_validation(y, tx, indices, lambdas, ridge_regression),\n",
    "    'Logistic regression GD' : nested_cross_validation(y, tx, indices, gammas, gradient_descent(logistic_reg_GD)),\n",
    "    'Regularized log. regression GD' : nested_cross_validation(y, tx, indices, hyperparams, gradient_descent_multi(penalized_logistic_reg_GD))\n",
    "}"
   ]
  },
  {
   "cell_type": "code",
   "execution_count": null,
   "metadata": {},
   "outputs": [],
   "source": [
    "results = np.array(list(method_results.values()))\n",
    "plt.barh(list(method_results.keys()), results[:, 0], xerr=results[:, 1])\n",
    "plt.xlim(0, 1)\n",
    "plt.xlabel(\"Correct prediction ratio\")\n",
    "plt.title(\"Results of full regression (all variables)\")\n",
    "plt.savefig(\"../figs/regresults.pdf\")\n",
    "plt.show()"
   ]
  },
  {
   "cell_type": "code",
   "execution_count": 94,
   "metadata": {},
   "outputs": [],
   "source": [
    "def feature_augmentation(tx, degree):\n",
    "    powers = [np.power(tx, deg) for deg in range(1,degree+1)]\n",
    "    return np.concatenate(powers, axis=1)"
   ]
  },
  {
   "cell_type": "code",
   "execution_count": 98,
   "metadata": {},
   "outputs": [
    {
     "name": "stdout",
     "output_type": "stream",
     "text": [
      "Degree 1: [0.6727240052381506, 0.0016246735501499307]\n",
      "Degree 2: [0.7629720118097549, 0.0027612590058551894]\n",
      "Degree 3: [0.7707960060507103, 0.003015763362032697]\n",
      "Degree 4: [0.7814400073000828, 0.0029868852972744367]\n",
      "Degree 5: [0.791044005061294, 0.002660063374330084]\n",
      "Degree 6: [0.7953160031418256, 0.0024384254790093857]\n",
      "Degree 7: [0.796652002437991, 0.0028230572645703395]\n",
      "Degree 8: [0.7999120023744077, 0.003055589605201434]\n",
      "Degree 9: [0.8034879863427372, 0.003503348721795174]\n",
      "Degree 10: [0.808635997959489, 0.003362554635718197]\n",
      "Degree 11: [0.8124000004879912, 0.0031980982723088473]\n",
      "Degree 12: [0.8023560265989143, 0.014381143736618567]\n",
      "Degree 13: [0.7528515831010298, 0.04847834471615634]\n",
      "Degree 14: [0.7310441576948352, 0.0914624744248736]\n"
     ]
    }
   ],
   "source": [
    "from validation import *\n",
    "from implementations import *\n",
    "\n",
    "labels, data, ids = load_csv_data(DATA_TRAIN_PATH)\n",
    "mean, std = np.mean(data, axis=0), np.std(data, axis=0)\n",
    "y = normalize_labels(labels)\n",
    "tx = data\n",
    "lambda_ = 1e-8\n",
    "\n",
    "k = 6\n",
    "indices = build_k_indices(len(y), k)\n",
    "\n",
    "fa = feature_augmentation(tx_, i)\n",
    "initial_w = np.zeros(fa.shape[1])\n",
    "method = lambda y, tx: ridge_regression(y, tx, lambda_)\n",
    "cross_validation(y, tx, indices, method)\n",
    "\n",
    "# print(\"Degree 1:\", cross_validation(y, tx, indices, method))\n",
    "# print(\"Degree 2:\", cross_validation(y, feature_augmentation(tx, 2), indices, method))"
   ]
  },
  {
   "cell_type": "markdown",
   "metadata": {},
   "source": [
    "least squares\n",
    "Degree 1: [0.6727359966940839, 0.0033396339599676287]\n",
    "Degree 2: [0.7689039835542882, 0.002250319518331648]\n",
    "Degree 3: [0.7544556298856094, 0.050378527866572764]\n",
    "Degree 4: [0.7870400037807714, 0.002041371430358621]\n",
    "Degree 5: [0.7960840017979133, 0.0018645413642967516]\n",
    "Degree 6: [0.7982560030462013, 0.0028332752689231096]\n",
    "Degree 7: [0.7701439693143328, 0.02154082470313782]\n",
    "Degree 8: [0.7206324758080473, 0.09673616499969533]\n",
    "Degree 9: [0.7005284220770442, 0.1114349333454626]\n",
    "Degree 10: [0.7137839856912498, 0.07819875150936996]\n",
    "Degree 11: [0.7551400040966908, 0.029170768811499517]\n",
    "Degree 12: [0.6463037573287855, 0.07110401750097665]\n",
    "Degree 13: [0.6766041511278144, 0.08559541679397659]\n",
    "Degree 14: [0.6834003486662646, 0.04393376533452371]\n",
    "\n",
    "ridge regression\n",
    "Degree 1: [0.6727800066141687, 0.001381963958043767]\n",
    "Degree 2: [0.7629040151377727, 0.002552190914967387]\n",
    "Degree 3: [0.7706560136987536, 0.002836028364255326]\n",
    "Degree 4: [0.7815000072040896, 0.002719140839882505]\n",
    "Degree 5: [0.7909680092213177, 0.0027718568138764563]\n",
    "Degree 6: [0.7950360071098216, 0.001963070829461227]\n",
    "Degree 7: [0.7961840097339894, 0.0018379415428500907]\n",
    "Degree 8: [0.7921640702139587, 0.015547436016873204]\n",
    "Degree 9: [0.8027800117828501, 0.0015084107676194695]\n",
    "Degree 10: [0.807508016007489, 0.0014915298774878767]\n",
    "Degree 11: [0.8096400193037884, 0.002092523197171315]\n",
    "Degree 12: [0.8054560625675989, 0.009661994950285885]\n",
    "Degree 13: [0.7052439922822096, 0.07455239357118361]\n",
    "Degree 14: [0.7780361763249992, 0.028592400772404356]"
   ]
  },
  {
   "cell_type": "code",
   "execution_count": 23,
   "metadata": {},
   "outputs": [],
   "source": [
    "ls = np.array([\n",
    "    [0.6727359966940839, 0.0033396339599676287],\n",
    "    [0.7689039835542882, 0.002250319518331648],\n",
    "    [0.7544556298856094, 0.050378527866572764],\n",
    "    [0.7870400037807714, 0.002041371430358621],\n",
    "    [0.7960840017979133, 0.0018645413642967516],\n",
    "    [0.7982560030462013, 0.0028332752689231096],\n",
    "    [0.7701439693143328, 0.02154082470313782],\n",
    "    [0.7206324758080473, 0.09673616499969533],\n",
    "    [0.7005284220770442, 0.1114349333454626],\n",
    "    [0.7137839856912498, 0.07819875150936996],\n",
    "    [0.7551400040966908, 0.029170768811499517],\n",
    "    [0.6463037573287855, 0.07110401750097665],\n",
    "    [0.6766041511278144, 0.08559541679397659],\n",
    "    [0.6834003486662646, 0.04393376533452371]\n",
    "])\n",
    "rr = np.array([\n",
    "    [0.6727800066141687, 0.001381963958043767],\n",
    "    [0.7629040151377727, 0.002552190914967387],\n",
    "    [0.7706560136987536, 0.002836028364255326],\n",
    "    [0.7815000072040896, 0.002719140839882505],\n",
    "    [0.7909680092213177, 0.0027718568138764563],\n",
    "    [0.7950360071098216, 0.001963070829461227],\n",
    "    [0.7961840097339894, 0.0018379415428500907],\n",
    "    [0.7921640702139587, 0.015547436016873204],\n",
    "    [0.8027800117828501, 0.0015084107676194695],\n",
    "    [0.807508016007489, 0.0014915298774878767],\n",
    "    [0.8096400193037884, 0.002092523197171315],\n",
    "    [0.8054560625675989, 0.009661994950285885],\n",
    "    [0.7052439922822096, 0.07455239357118361],\n",
    "    [0.7780361763249992, 0.028592400772404356]\n",
    "])"
   ]
  },
  {
   "cell_type": "code",
   "execution_count": 67,
   "metadata": {},
   "outputs": [
    {
     "data": {
      "image/png": "[encoded data removed]",
      "text/plain": [
       "<Figure size 432x288 with 1 Axes>"
      ]
     },
     "metadata": {
      "needs_background": "light"
     },
     "output_type": "display_data"
    }
   ],
   "source": [
    "x = range(1,12)\n",
    "\n",
    "ls_y = ls[1:12,0]\n",
    "ls_e = ls[1:12,1]\n",
    "\n",
    "rr_y = rr[1:12,0]\n",
    "rr_e = rr[1:12,1]\n",
    "\n",
    "plt.errorbar(x,ls_y,ls_e, linestyle='dotted', marker='*')\n",
    "plt.errorbar(x,rr_y,rr_e, linestyle='dotted', marker='*')\n",
    "\n",
    "plt.xlabel(\"Degree of polynomial expansion\")\n",
    "plt.ylabel(\"Accuracy\")\n",
    "\n",
    "plt.legend([\"least squares\", \"ridge regression, $\\lambda=1e-8$\"])\n",
    "\n",
    "plt.tight_layout()\n",
    "plt.savefig(\"augmentation.pdf\")\n",
    "plt.show()"
   ]
  },
  {
   "cell_type": "code",
   "execution_count": null,
   "metadata": {},
   "outputs": [],
   "source": []
  },
  {
   "cell_type": "markdown",
   "metadata": {},
   "source": [
    "# Create a (simple) submission"
   ]
  },
  {
   "cell_type": "code",
   "execution_count": 33,
   "metadata": {},
   "outputs": [],
   "source": [
    "DATA_TEST_PATH = \"../data/test.csv\"\n",
    "_, tx_test, ids_test = load_csv_data(DATA_TEST_PATH)"
   ]
  },
  {
   "cell_type": "code",
   "execution_count": 34,
   "metadata": {},
   "outputs": [],
   "source": [
    "OUTPUT_PATH  = \"../data/predictions.csv\"\n",
    "\n",
    "weights, _ = ridge_regression(labels, tx, lambda_)\n",
    "labels_test = predict_labels(weights, tx_test)\n",
    "create_csv_submission(ids_test, labels_test, OUTPUT_PATH)"
   ]
  },
  {
   "cell_type": "markdown",
   "metadata": {},
   "source": [
    "## Separating data by group"
   ]
  },
  {
   "cell_type": "code",
   "execution_count": 42,
   "metadata": {},
   "outputs": [],
   "source": [
    "useless_features = {\n",
    "    0: [\"DER_deltaeta_jet_jet\", \"DER_mass_jet_jet\", \"DER_prodeta_jet_jet\", \"DER_lep_eta_centrality\",\n",
    "        \"PRI_jet_leading_pt\", \"PRI_jet_leading_eta\", \"PRI_jet_leading_phi\",\n",
    "        \"PRI_jet_subleading_pt\", \"PRI_jet_subleading_eta\", \"PRI_jet_subleading_phi\",\"PRI_jet_all_pt\"\n",
    "       ],\n",
    "    1: [\"DER_deltaeta_jet_jet\", \"DER_mass_jet_jet\", \"DER_prodeta_jet_jet\", \"DER_lep_eta_centrality\",\n",
    "        \"PRI_jet_subleading_pt\", \"PRI_jet_subleading_eta\", \"PRI_jet_subleading_phi\"\n",
    "       ],\n",
    "    2: [],\n",
    "    3: []\n",
    "}\n",
    "\n",
    "\n",
    "def group_by_jet_num(y, tx, jet_num):\n",
    "    indices = np.where(tx[:, categorical_variable] == jet_num)\n",
    "    useless = useless_features[jet_num] + [\"PRI_jet_num\"]\n",
    "    useless_indices = [feature_names.index(feat) for feat in useless]\n",
    "    tx_ = np.delete(tx, useless_indices, axis=1)\n",
    "    return [y[indices], tx_[indices]]\n",
    "\n",
    "\n",
    "def group_data(y, tx):\n",
    "    data_grouped = [\n",
    "        group_by_jet_num(y, tx, jet_num)\n",
    "        for jet_num in range(4)\n",
    "    ]\n",
    "    # Create one single group for jet_nums 2 and 3\n",
    "    data_grouped[2][0] = np.concatenate([data_grouped[2][0], data_grouped[3][0]])\n",
    "    data_grouped[2][1] = np.concatenate([data_grouped[2][1], data_grouped[3][1]])\n",
    "    data_grouped.pop(3)\n",
    "    return data_grouped"
   ]
  },
  {
   "cell_type": "code",
   "execution_count": 115,
   "metadata": {},
   "outputs": [],
   "source": [
    "from validation import *\n",
    "from implementations import *"
   ]
  },
  {
   "cell_type": "code",
   "execution_count": 116,
   "metadata": {},
   "outputs": [
    {
     "data": {
      "text/plain": [
       "array([0.82316453, 0.00370001])"
      ]
     },
     "execution_count": 116,
     "metadata": {},
     "output_type": "execute_result"
    }
   ],
   "source": [
    "labels, data, _ = load_csv_data(DATA_TRAIN_PATH)\n",
    "y = normalize_labels(labels)\n",
    "\n",
    "avg_acc = np.zeros(2)\n",
    "lambda_ = 1e-8\n",
    "method = lambda y, tx: ridge_regression(y, tx, lambda_)\n",
    "\n",
    "for y, tx in group_data(y, data):\n",
    "    indices = build_k_indices(len(y), 5)\n",
    "    avg_acc += cross_validation(y, tx, indices, method)\n",
    "avg_acc / len(data_grouped)"
   ]
  },
  {
   "cell_type": "code",
   "execution_count": null,
   "metadata": {
    "jupyter": {
     "outputs_hidden": false
    }
   },
   "outputs": [],
   "source": [
    "from proj1_helpers import *\n",
    "DATA_TRAIN_PATH = \"../data/train.csv\"\n",
    "y, tx, ids = load_csv_data(DATA_TRAIN_PATH)\n",
    "\n",
    "def calculate_weights(y, tx):     \n",
    "    tx = feature_expansion(tx)\n",
    "    weights, _ = least_squares(y, tx)\n",
    "    return weights\n",
    "\n",
    "w_by_group = [calculate_weights(y, tx) for y, tx in group_data(y, tx)]"
   ]
  },
  {
   "cell_type": "code",
   "execution_count": null,
   "metadata": {
    "jupyter": {
     "outputs_hidden": false
    }
   },
   "outputs": [],
   "source": [
    "OUTPUT_PATH = 'predictions.csv'\n",
    "\n",
    "def predict_labels_grouped(w_by_group, ids, data):\n",
    "    \"\"\"Generates class predictions given weights, and a test data matrix\"\"\"\n",
    "    data_grouped = group_data(ids, data) # List[ (Id, tX)]\n",
    "    y_pred = np.array([])\n",
    "    ids_pred = np.array([])\n",
    "    for group, w in zip(data_grouped, w_by_group):\n",
    "        ids, tx = group\n",
    "        tx = feature_expansion(tx)\n",
    "        y_pred = np.concatenate([y_pred, tx @ w])\n",
    "        ids_pred = np.concatenate([ids_pred, ids])\n",
    "    y_pred[y_pred > 0] = 1\n",
    "    y_pred[y_pred <= 0] = -1\n",
    "    return y_pred, ids_pred\n",
    "\n",
    "y_pred, ids_pred = predict_labels_grouped(w_by_group, ids_test, tX_test)\n",
    "pred_arr = np.column_stack((ids_pred, y_pred))\n",
    "sorted_pred = pred_arr[pred_arr[:,0].argsort()]\n",
    "\n",
    "create_csv_submission(sorted_pred[:, 0], sorted_pred[:, 1], OUTPUT_PATH)"
   ]
  },
  {
   "cell_type": "code",
   "execution_count": null,
   "metadata": {},
   "outputs": [],
   "source": []
  }
 ],
 "metadata": {
  "anaconda-cloud": {},
  "kernelspec": {
   "display_name": "Python 3",
   "language": "python",
   "name": "python3"
  },
  "language_info": {
   "codemirror_mode": {
    "name": "ipython",
    "version": 3
   },
   "file_extension": ".py",
   "mimetype": "text/x-python",
   "name": "python",
   "nbconvert_exporter": "python",
   "pygments_lexer": "ipython3",
   "version": "3.6.9"
  }
 },
 "nbformat": 4,
 "nbformat_minor": 4
}
