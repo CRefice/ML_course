{
 "cells": [
  {
   "cell_type": "code",
   "execution_count": 1,
   "metadata": {},
   "outputs": [],
   "source": [
    "# Useful starting lines\n",
    "%matplotlib inline\n",
    "import numpy as np\n",
    "import matplotlib.pyplot as plt\n",
    "from proj1_helpers import *\n",
    "import pandas as pd\n",
    "%load_ext autoreload\n",
    "%autoreload 2"
   ]
  },
  {
   "cell_type": "markdown",
   "metadata": {},
   "source": [
    "# Load the training data into feature matrix, class labels, and event ids:"
   ]
  },
  {
   "cell_type": "code",
   "execution_count": 2,
   "metadata": {
    "collapsed": false,
    "jupyter": {
     "outputs_hidden": false
    }
   },
   "outputs": [],
   "source": [
    "DATA_TRAIN_PATH = \"../data/train.csv\"\n",
    "labels, data, ids = load_csv_data(DATA_TRAIN_PATH)"
   ]
  },
  {
   "cell_type": "code",
   "execution_count": 3,
   "metadata": {},
   "outputs": [],
   "source": [
    "feature_names = [\"DER_mass_MMC\",\"DER_mass_transverse_met_lep\",\"DER_mass_vis\",\"DER_pt_h\",\"DER_deltaeta_jet_jet\",\"DER_mass_jet_jet\",\"DER_prodeta_jet_jet\",\"DER_deltar_tau_lep\",\"DER_pt_tot\",\"DER_sum_pt\",\"DER_pt_ratio_lep_tau\",\"DER_met_phi_centrality\",\"DER_lep_eta_centrality\",\"PRI_tau_pt\",\"PRI_tau_eta\",\"PRI_tau_phi\",\"PRI_lep_pt\",\"PRI_lep_eta\",\"PRI_lep_phi\",\"PRI_met\",\"PRI_met_phi\",\"PRI_met_sumet\",\"PRI_jet_num\",\"PRI_jet_leading_pt\",\"PRI_jet_leading_eta\",\"PRI_jet_leading_phi\",\"PRI_jet_subleading_pt\",\"PRI_jet_subleading_eta\",\"PRI_jet_subleading_phi\",\"PRI_jet_all_pt\"]\n",
    "categorical_variable = feature_names.index(\"PRI_jet_num\")"
   ]
  },
  {
   "cell_type": "markdown",
   "metadata": {},
   "source": [
    "# Exploratory data analysis"
   ]
  },
  {
   "cell_type": "markdown",
   "metadata": {},
   "source": [
    "How many events are there compared to non-events?"
   ]
  },
  {
   "cell_type": "code",
   "execution_count": 4,
   "metadata": {},
   "outputs": [
    {
     "data": {
      "image/png": "[encoded data removed]",
      "text/plain": [
       "<Figure size 432x288 with 1 Axes>"
      ]
     },
     "metadata": {
      "needs_background": "light"
     },
     "output_type": "display_data"
    }
   ],
   "source": [
    "events = np.count_nonzero(labels == 1)\n",
    "nonevents = len(labels) - events\n",
    "plt.bar([\"Events\", \"Background\"], [events, nonevents])\n",
    "plt.show()"
   ]
  },
  {
   "cell_type": "markdown",
   "metadata": {},
   "source": [
    "There's roughly twice as many background noise as there are events in the training set. We have to be careful of this fact when using cross-validation."
   ]
  },
  {
   "cell_type": "markdown",
   "metadata": {},
   "source": [
    "How is it distributed with regards to PRI_jet_num?"
   ]
  },
  {
   "cell_type": "code",
   "execution_count": 5,
   "metadata": {},
   "outputs": [
    {
     "data": {
      "image/png": "[encoded data removed]",
      "text/plain": [
       "<Figure size 432x288 with 1 Axes>"
      ]
     },
     "metadata": {
      "needs_background": "light"
     },
     "output_type": "display_data"
    }
   ],
   "source": [
    "events = data[np.where(labels == 1)]\n",
    "nonevents = data[np.where(labels != 1)]\n",
    "\n",
    "unique, counts = np.unique(nonevents[:,categorical_variable], return_counts=True)\n",
    "plt.bar(unique, counts)\n",
    "_, counts2 = np.unique(events[:,categorical_variable], return_counts=True)\n",
    "plt.bar(unique, counts2, bottom=counts)\n",
    "plt.legend([\"Background\", \"Event\"])\n",
    "plt.title(\"Frequency of categorical variable PRI_jet_num\")\n",
    "plt.show()"
   ]
  },
  {
   "cell_type": "markdown",
   "metadata": {},
   "source": [
    "## Which features should be merged together?"
   ]
  },
  {
   "cell_type": "code",
   "execution_count": 6,
   "metadata": {},
   "outputs": [],
   "source": [
    "def generate_correlation_set(tX, t):\n",
    "    corr_set = set()\n",
    "    df = pd.DataFrame(tX)\n",
    "    corr = df.corr()\n",
    "    for i, row in enumerate(corr):\n",
    "        for j, col in enumerate(corr):\n",
    "            if i != j and corr.loc[i,j] > t:\n",
    "                corr_set.add((i,j))\n",
    "                \n",
    "    return _pairs_to_groups(corr_set)\n",
    "\n",
    "def _pairs_to_groups(pairs):\n",
    "    groups = set()\n",
    "    edges = _create_dict_from_tuples(pairs)\n",
    "    vertices = edges.keys()\n",
    "    done = set()\n",
    "\n",
    "    for vertex in vertices:\n",
    "        if vertex not in done:\n",
    "            groups.add(frozenset(_depth_first_search(vertex, edges, done)))\n",
    "\n",
    "    return groups\n",
    "\n",
    "def _depth_first_search(vertex, edges, done):\n",
    "    group = {vertex}\n",
    "    done.add(vertex)\n",
    "\n",
    "    for v_adj in edges[vertex]:\n",
    "        if v_adj not in done:\n",
    "            group.update(_depth_first_search(v_adj, edges, done))\n",
    "\n",
    "    return group\n",
    "\n",
    "def _create_dict_from_tuples(tuples):\n",
    "    dict_ = dict()\n",
    "\n",
    "    for x, y in tuples:\n",
    "        if x not in dict_:\n",
    "            dict_[x] = set()\n",
    "        dict_[x].add(y)\n",
    "\n",
    "    return dict_"
   ]
  },
  {
   "cell_type": "markdown",
   "metadata": {},
   "source": [
    "# Data processing"
   ]
  },
  {
   "cell_type": "markdown",
   "metadata": {},
   "source": [
    "There's a few different approaches we could take for feature processing:\n",
    "1. Divide the dataset into four, one for each categorical variable.\n",
    "2. Split the categorical variable into multiple boolean columns, one for each type it could be.\n",
    "\n",
    "Regardless, the data should be properly normalized beforehand (made exception for the categorical variable), as not normalizing it leads to overflows when running any sort of regression"
   ]
  },
  {
   "cell_type": "code",
   "execution_count": 7,
   "metadata": {},
   "outputs": [],
   "source": [
    "mean, std = np.mean(data, axis=0), np.std(data, axis=0)"
   ]
  },
  {
   "cell_type": "markdown",
   "metadata": {},
   "source": [
    "Logistic regression expects labels to be of the form {0, 1}.  \n",
    "Since the labels given to us are instead of the form {-1, 1}, we also need to normalize them to use logistic regression.\n",
    "Other forms of regression work well no matter the form of the labels, so we stick with {0, 1}"
   ]
  },
  {
   "cell_type": "code",
   "execution_count": 8,
   "metadata": {},
   "outputs": [],
   "source": [
    "def normalize_labels(labels):\n",
    "    return np.round((labels + 1) / 2)"
   ]
  },
  {
   "cell_type": "markdown",
   "metadata": {},
   "source": [
    "## Compare methods & Optimize hyperparameters\n",
    "Let's see which of the regression methods performs best using k-fold cross validation"
   ]
  },
  {
   "cell_type": "code",
   "execution_count": 9,
   "metadata": {},
   "outputs": [],
   "source": [
    "from validation import *\n",
    "from implementations import *\n",
    "\n",
    "y = normalize_labels(labels)\n",
    "tx = data"
   ]
  },
  {
   "cell_type": "code",
   "execution_count": 10,
   "metadata": {},
   "outputs": [],
   "source": [
    "k = 6\n",
    "indices = build_k_indices(len(y), k)\n",
    "# cross_validation(y, tx, indices,)"
   ]
  },
  {
   "cell_type": "code",
   "execution_count": 11,
   "metadata": {},
   "outputs": [],
   "source": [
    "def cartesian_product(x, y):\n",
    "    return np.transpose([np.tile(x, len(y)), np.repeat(y, len(x))])"
   ]
  },
  {
   "cell_type": "code",
   "execution_count": 12,
   "metadata": {},
   "outputs": [],
   "source": [
    "max_iters = 50\n",
    "initial_w = np.mean(tx,axis=0)\n",
    "gammas = [1*(10**-i) for i in range(1,6)]\n",
    "lambdas = np.logspace(-8, -2, 7)\n",
    "hyperparams = cartesian_product(gammas, lambdas)\n",
    "\n",
    "def gradient_descent(train_function):\n",
    "    return lambda y, tx, param: train_function(y, tx, initial_w, max_iters, param)\n",
    "\n",
    "def gradient_descent_multi(train_function):\n",
    "    return lambda y, tx, param: train_function(y, tx, initial_w, max_iters, *param)"
   ]
  },
  {
   "cell_type": "code",
   "execution_count": null,
   "metadata": {},
   "outputs": [],
   "source": [
    "k = 6\n",
    "indices = build_k_indices(len(y), k)\n",
    "method_results = {\n",
    "    'Least squares GD' : nested_cross_validation(y, tx, indices, gammas, gradient_descent(least_squares_GD)),\n",
    "    'Least squares SGD' : nested_cross_validation(y, tx, indices, gammas, gradient_descent(least_squares_SGD)),\n",
    "    'Explicit least squares' : cross_validation(y, tx, indices, least_squares),\n",
    "    'Ridge regression' : nested_cross_validation(y, tx, indices, lambdas, ridge_regression),\n",
    "    'Logistic regression GD' : nested_cross_validation(y, tx, indices, gammas, gradient_descent(logistic_reg_GD)),\n",
    "    'Regularized log. regression GD' : nested_cross_validation(y, tx, indices, hyperparams, gradient_descent_multi(penalized_logistic_reg_GD))\n",
    "}"
   ]
  },
  {
   "cell_type": "code",
   "execution_count": null,
   "metadata": {},
   "outputs": [],
   "source": [
    "results = np.array(list(method_results.values()))\n",
    "plt.barh(list(method_results.keys()), results[:, 0], xerr=results[:, 1])\n",
    "plt.xlim(0, 1)\n",
    "plt.xlabel(\"Correct prediction ratio\")\n",
    "plt.title(\"Results of full regression (all variables)\")\n",
    "plt.savefig(\"../figs/regresults.pdf\")\n",
    "plt.show()"
   ]
  },
  {
   "cell_type": "code",
   "execution_count": 14,
   "metadata": {},
   "outputs": [],
   "source": [
    "def feature_augmentation(tx, degree):\n",
    "    powers = [np.power(tx, deg) for deg in range(1,degree+1)]\n",
    "    return np.concatenate(powers, axis=1)"
   ]
  },
  {
   "cell_type": "code",
   "execution_count": 17,
   "metadata": {},
   "outputs": [
    {
     "name": "stdout",
     "output_type": "stream",
     "text": [
      "Degree 1: [0.7933759813174027, 0.0017965321192384605]\n",
      "Degree 2: [0.7933759813174027, 0.0017965321192384605]\n"
     ]
    },
    {
     "ename": "KeyboardInterrupt",
     "evalue": "",
     "output_type": "error",
     "traceback": [
      "\u001b[0;31m---------------------------------------------------------------------------\u001b[0m",
      "\u001b[0;31mKeyboardInterrupt\u001b[0m                         Traceback (most recent call last)",
      "\u001b[0;32m<ipython-input-17-7d3f9bfdb713>\u001b[0m in \u001b[0;36m<module>\u001b[0;34m\u001b[0m\n\u001b[1;32m     15\u001b[0m \u001b[0;34m\u001b[0m\u001b[0m\n\u001b[1;32m     16\u001b[0m \u001b[0;32mfor\u001b[0m \u001b[0mi\u001b[0m \u001b[0;32min\u001b[0m \u001b[0mrange\u001b[0m\u001b[0;34m(\u001b[0m\u001b[0;36m1\u001b[0m\u001b[0;34m,\u001b[0m\u001b[0;36m15\u001b[0m\u001b[0;34m)\u001b[0m\u001b[0;34m:\u001b[0m\u001b[0;34m\u001b[0m\u001b[0;34m\u001b[0m\u001b[0m\n\u001b[0;32m---> 17\u001b[0;31m     \u001b[0mprint\u001b[0m\u001b[0;34m(\u001b[0m\u001b[0;34mf\"Degree {i}:\"\u001b[0m\u001b[0;34m,\u001b[0m \u001b[0mcross_validation\u001b[0m\u001b[0;34m(\u001b[0m\u001b[0my\u001b[0m\u001b[0;34m,\u001b[0m \u001b[0mtx\u001b[0m\u001b[0;34m,\u001b[0m \u001b[0mindices\u001b[0m\u001b[0;34m,\u001b[0m \u001b[0mmethod\u001b[0m\u001b[0;34m)\u001b[0m\u001b[0;34m)\u001b[0m\u001b[0;34m\u001b[0m\u001b[0;34m\u001b[0m\u001b[0m\n\u001b[0m\u001b[1;32m     18\u001b[0m \u001b[0;34m\u001b[0m\u001b[0m\n\u001b[1;32m     19\u001b[0m \u001b[0;31m# print(\"Degree 1:\", cross_validation(y, tx, indices, method))\u001b[0m\u001b[0;34m\u001b[0m\u001b[0;34m\u001b[0m\u001b[0;34m\u001b[0m\u001b[0m\n",
      "\u001b[0;32m~/uni/ml/projects/project1/scripts/validation.py\u001b[0m in \u001b[0;36mcross_validation\u001b[0;34m(y, tx, k_indices, train_function)\u001b[0m\n\u001b[1;32m     54\u001b[0m \u001b[0;32mdef\u001b[0m \u001b[0mcross_validation\u001b[0m\u001b[0;34m(\u001b[0m\u001b[0my\u001b[0m\u001b[0;34m,\u001b[0m \u001b[0mtx\u001b[0m\u001b[0;34m,\u001b[0m \u001b[0mk_indices\u001b[0m\u001b[0;34m,\u001b[0m \u001b[0mtrain_function\u001b[0m\u001b[0;34m)\u001b[0m\u001b[0;34m:\u001b[0m\u001b[0;34m\u001b[0m\u001b[0;34m\u001b[0m\u001b[0m\n\u001b[1;32m     55\u001b[0m     accs = np.array(\n\u001b[0;32m---> 56\u001b[0;31m         [\n\u001b[0m\u001b[1;32m     57\u001b[0m             \u001b[0mcross_validation_step\u001b[0m\u001b[0;34m(\u001b[0m\u001b[0my\u001b[0m\u001b[0;34m,\u001b[0m \u001b[0mtx\u001b[0m\u001b[0;34m,\u001b[0m \u001b[0mtest\u001b[0m\u001b[0;34m,\u001b[0m \u001b[0mtrain\u001b[0m\u001b[0;34m,\u001b[0m \u001b[0mtrain_function\u001b[0m\u001b[0;34m)\u001b[0m\u001b[0;34m\u001b[0m\u001b[0;34m\u001b[0m\u001b[0m\n\u001b[1;32m     58\u001b[0m             \u001b[0;32mfor\u001b[0m \u001b[0mtest\u001b[0m\u001b[0;34m,\u001b[0m \u001b[0mtrain\u001b[0m \u001b[0;32min\u001b[0m \u001b[0mk_fold_iterator\u001b[0m\u001b[0;34m(\u001b[0m\u001b[0mk_indices\u001b[0m\u001b[0;34m)\u001b[0m\u001b[0;34m\u001b[0m\u001b[0;34m\u001b[0m\u001b[0m\n",
      "\u001b[0;32m~/uni/ml/projects/project1/scripts/validation.py\u001b[0m in \u001b[0;36m<listcomp>\u001b[0;34m(.0)\u001b[0m\n\u001b[1;32m     55\u001b[0m     accs = np.array(\n\u001b[1;32m     56\u001b[0m         [\n\u001b[0;32m---> 57\u001b[0;31m             \u001b[0mcross_validation_step\u001b[0m\u001b[0;34m(\u001b[0m\u001b[0my\u001b[0m\u001b[0;34m,\u001b[0m \u001b[0mtx\u001b[0m\u001b[0;34m,\u001b[0m \u001b[0mtest\u001b[0m\u001b[0;34m,\u001b[0m \u001b[0mtrain\u001b[0m\u001b[0;34m,\u001b[0m \u001b[0mtrain_function\u001b[0m\u001b[0;34m)\u001b[0m\u001b[0;34m\u001b[0m\u001b[0;34m\u001b[0m\u001b[0m\n\u001b[0m\u001b[1;32m     58\u001b[0m             \u001b[0;32mfor\u001b[0m \u001b[0mtest\u001b[0m\u001b[0;34m,\u001b[0m \u001b[0mtrain\u001b[0m \u001b[0;32min\u001b[0m \u001b[0mk_fold_iterator\u001b[0m\u001b[0;34m(\u001b[0m\u001b[0mk_indices\u001b[0m\u001b[0;34m)\u001b[0m\u001b[0;34m\u001b[0m\u001b[0;34m\u001b[0m\u001b[0m\n\u001b[1;32m     59\u001b[0m         ]\n",
      "\u001b[0;32m~/uni/ml/projects/project1/scripts/validation.py\u001b[0m in \u001b[0;36mcross_validation_step\u001b[0;34m(y, tx, test_indices, train_indices, train_function)\u001b[0m\n\u001b[1;32m     47\u001b[0m \u001b[0;34m\u001b[0m\u001b[0m\n\u001b[1;32m     48\u001b[0m     \u001b[0;31m# train model on training data\u001b[0m\u001b[0;34m\u001b[0m\u001b[0;34m\u001b[0m\u001b[0;34m\u001b[0m\u001b[0m\n\u001b[0;32m---> 49\u001b[0;31m     \u001b[0mw\u001b[0m\u001b[0;34m,\u001b[0m \u001b[0m_\u001b[0m \u001b[0;34m=\u001b[0m \u001b[0mtrain_function\u001b[0m\u001b[0;34m(\u001b[0m\u001b[0mtrain_y\u001b[0m\u001b[0;34m,\u001b[0m \u001b[0mtrain_tx\u001b[0m\u001b[0;34m)\u001b[0m\u001b[0;34m\u001b[0m\u001b[0;34m\u001b[0m\u001b[0m\n\u001b[0m\u001b[1;32m     50\u001b[0m     \u001b[0;31m# calculate the prediction accuracy for test data\u001b[0m\u001b[0;34m\u001b[0m\u001b[0;34m\u001b[0m\u001b[0;34m\u001b[0m\u001b[0m\n\u001b[1;32m     51\u001b[0m     \u001b[0;32mreturn\u001b[0m \u001b[0mprediction_accuracy\u001b[0m\u001b[0;34m(\u001b[0m\u001b[0mtest_y\u001b[0m\u001b[0;34m,\u001b[0m \u001b[0mtest_tx\u001b[0m\u001b[0;34m,\u001b[0m \u001b[0mw\u001b[0m\u001b[0;34m)\u001b[0m\u001b[0;34m\u001b[0m\u001b[0;34m\u001b[0m\u001b[0m\n",
      "\u001b[0;32m<ipython-input-17-7d3f9bfdb713>\u001b[0m in \u001b[0;36m<lambda>\u001b[0;34m(y, tx)\u001b[0m\n\u001b[1;32m      9\u001b[0m \u001b[0;34m\u001b[0m\u001b[0m\n\u001b[1;32m     10\u001b[0m \u001b[0mlambda_\u001b[0m \u001b[0;34m=\u001b[0m \u001b[0;36m2e-8\u001b[0m\u001b[0;34m\u001b[0m\u001b[0;34m\u001b[0m\u001b[0m\n\u001b[0;32m---> 11\u001b[0;31m \u001b[0mmethod\u001b[0m \u001b[0;34m=\u001b[0m \u001b[0;32mlambda\u001b[0m \u001b[0my\u001b[0m\u001b[0;34m,\u001b[0m \u001b[0mtx\u001b[0m\u001b[0;34m:\u001b[0m \u001b[0mridge_regression\u001b[0m\u001b[0;34m(\u001b[0m\u001b[0my\u001b[0m\u001b[0;34m,\u001b[0m \u001b[0mtx\u001b[0m\u001b[0;34m,\u001b[0m \u001b[0mlambda_\u001b[0m\u001b[0;34m)\u001b[0m\u001b[0;34m\u001b[0m\u001b[0;34m\u001b[0m\u001b[0m\n\u001b[0m\u001b[1;32m     12\u001b[0m \u001b[0;34m\u001b[0m\u001b[0m\n\u001b[1;32m     13\u001b[0m \u001b[0mk\u001b[0m \u001b[0;34m=\u001b[0m \u001b[0;36m6\u001b[0m\u001b[0;34m\u001b[0m\u001b[0;34m\u001b[0m\u001b[0m\n",
      "\u001b[0;32m~/uni/ml/projects/project1/scripts/implementations.py\u001b[0m in \u001b[0;36mridge_regression\u001b[0;34m(y, tx, lambda_)\u001b[0m\n\u001b[1;32m    123\u001b[0m     \u001b[0mtx_t\u001b[0m \u001b[0;34m=\u001b[0m \u001b[0mtx\u001b[0m\u001b[0;34m.\u001b[0m\u001b[0mT\u001b[0m\u001b[0;34m\u001b[0m\u001b[0;34m\u001b[0m\u001b[0m\n\u001b[1;32m    124\u001b[0m \u001b[0;34m\u001b[0m\u001b[0m\n\u001b[0;32m--> 125\u001b[0;31m     \u001b[0ma\u001b[0m \u001b[0;34m=\u001b[0m \u001b[0mtx_t\u001b[0m \u001b[0;34m@\u001b[0m \u001b[0mtx\u001b[0m \u001b[0;34m+\u001b[0m \u001b[0mlambdap\u001b[0m \u001b[0;34m*\u001b[0m \u001b[0mnp\u001b[0m\u001b[0;34m.\u001b[0m\u001b[0meye\u001b[0m\u001b[0;34m(\u001b[0m\u001b[0md\u001b[0m\u001b[0;34m)\u001b[0m\u001b[0;34m\u001b[0m\u001b[0;34m\u001b[0m\u001b[0m\n\u001b[0m\u001b[1;32m    126\u001b[0m     \u001b[0mb\u001b[0m \u001b[0;34m=\u001b[0m \u001b[0mtx_t\u001b[0m \u001b[0;34m@\u001b[0m \u001b[0my\u001b[0m\u001b[0;34m\u001b[0m\u001b[0;34m\u001b[0m\u001b[0m\n\u001b[1;32m    127\u001b[0m \u001b[0;34m\u001b[0m\u001b[0m\n",
      "\u001b[0;31mKeyboardInterrupt\u001b[0m: "
     ]
    }
   ],
   "source": [
    "from validation import *\n",
    "from implementations import *\n",
    "\n",
    "labels, data, ids = load_csv_data(DATA_TRAIN_PATH)\n",
    "\n",
    "mean, std = np.mean(data, axis=0), np.std(data, axis=0)\n",
    "y = normalize_labels(labels)\n",
    "tx = data\n",
    "\n",
    "lambda_ = 2e-8\n",
    "method = lambda y, tx: ridge_regression(y, tx, lambda_)\n",
    "\n",
    "k = 6\n",
    "indices = build_k_indices(len(y), k)\n",
    "\n",
    "cross_validation(y, tx, indices, method)\n",
    "\n",
    "# print(\"Degree 1:\", cross_validation(y, tx, indices, method))\n",
    "# print(\"Degree 2:\", cross_validation(y, feature_augmentation(tx, 2), indices, method))"
   ]
  },
  {
   "cell_type": "markdown",
   "metadata": {},
   "source": [
    "least squares\n",
    "Degree 1: [0.6727359966940839, 0.0033396339599676287]\n",
    "Degree 2: [0.7689039835542882, 0.002250319518331648]\n",
    "Degree 3: [0.7544556298856094, 0.050378527866572764]\n",
    "Degree 4: [0.7870400037807714, 0.002041371430358621]\n",
    "Degree 5: [0.7960840017979133, 0.0018645413642967516]\n",
    "Degree 6: [0.7982560030462013, 0.0028332752689231096]\n",
    "Degree 7: [0.7701439693143328, 0.02154082470313782]\n",
    "Degree 8: [0.7206324758080473, 0.09673616499969533]\n",
    "Degree 9: [0.7005284220770442, 0.1114349333454626]\n",
    "Degree 10: [0.7137839856912498, 0.07819875150936996]\n",
    "Degree 11: [0.7551400040966908, 0.029170768811499517]\n",
    "Degree 12: [0.6463037573287855, 0.07110401750097665]\n",
    "Degree 13: [0.6766041511278144, 0.08559541679397659]\n",
    "Degree 14: [0.6834003486662646, 0.04393376533452371]\n",
    "\n",
    "ridge regression\n",
    "Degree 1: [0.6727800066141687, 0.001381963958043767]\n",
    "Degree 2: [0.7629040151377727, 0.002552190914967387]\n",
    "Degree 3: [0.7706560136987536, 0.002836028364255326]\n",
    "Degree 4: [0.7815000072040896, 0.002719140839882505]\n",
    "Degree 5: [0.7909680092213177, 0.0027718568138764563]\n",
    "Degree 6: [0.7950360071098216, 0.001963070829461227]\n",
    "Degree 7: [0.7961840097339894, 0.0018379415428500907]\n",
    "Degree 8: [0.7921640702139587, 0.015547436016873204]\n",
    "Degree 9: [0.8027800117828501, 0.0015084107676194695]\n",
    "Degree 10: [0.807508016007489, 0.0014915298774878767]\n",
    "Degree 11: [0.8096400193037884, 0.002092523197171315]\n",
    "Degree 12: [0.8054560625675989, 0.009661994950285885]\n",
    "Degree 13: [0.7052439922822096, 0.07455239357118361]\n",
    "Degree 14: [0.7780361763249992, 0.028592400772404356]"
   ]
  },
  {
   "cell_type": "code",
   "execution_count": 23,
   "metadata": {},
   "outputs": [],
   "source": [
    "ls = np.array([\n",
    "    [0.6727359966940839, 0.0033396339599676287],\n",
    "    [0.7689039835542882, 0.002250319518331648],\n",
    "    [0.7544556298856094, 0.050378527866572764],\n",
    "    [0.7870400037807714, 0.002041371430358621],\n",
    "    [0.7960840017979133, 0.0018645413642967516],\n",
    "    [0.7982560030462013, 0.0028332752689231096],\n",
    "    [0.7701439693143328, 0.02154082470313782],\n",
    "    [0.7206324758080473, 0.09673616499969533],\n",
    "    [0.7005284220770442, 0.1114349333454626],\n",
    "    [0.7137839856912498, 0.07819875150936996],\n",
    "    [0.7551400040966908, 0.029170768811499517],\n",
    "    [0.6463037573287855, 0.07110401750097665],\n",
    "    [0.6766041511278144, 0.08559541679397659],\n",
    "    [0.6834003486662646, 0.04393376533452371]\n",
    "])\n",
    "rr = np.array([\n",
    "    [0.6727800066141687, 0.001381963958043767],\n",
    "    [0.7629040151377727, 0.002552190914967387],\n",
    "    [0.7706560136987536, 0.002836028364255326],\n",
    "    [0.7815000072040896, 0.002719140839882505],\n",
    "    [0.7909680092213177, 0.0027718568138764563],\n",
    "    [0.7950360071098216, 0.001963070829461227],\n",
    "    [0.7961840097339894, 0.0018379415428500907],\n",
    "    [0.7921640702139587, 0.015547436016873204],\n",
    "    [0.8027800117828501, 0.0015084107676194695],\n",
    "    [0.807508016007489, 0.0014915298774878767],\n",
    "    [0.8096400193037884, 0.002092523197171315],\n",
    "    [0.8054560625675989, 0.009661994950285885],\n",
    "    [0.7052439922822096, 0.07455239357118361],\n",
    "    [0.7780361763249992, 0.028592400772404356]\n",
    "])"
   ]
  },
  {
   "cell_type": "code",
   "execution_count": 67,
   "metadata": {},
   "outputs": [
    {
     "data": {
      "image/png": "[encoded data removed]",
      "text/plain": [
       "<Figure size 432x288 with 1 Axes>"
      ]
     },
     "metadata": {
      "needs_background": "light"
     },
     "output_type": "display_data"
    }
   ],
   "source": [
    "x = range(1,12)\n",
    "\n",
    "ls_y = ls[1:12,0]\n",
    "ls_e = ls[1:12,1]\n",
    "\n",
    "rr_y = rr[1:12,0]\n",
    "rr_e = rr[1:12,1]\n",
    "\n",
    "plt.errorbar(x,ls_y,ls_e, linestyle='dotted', marker='*')\n",
    "plt.errorbar(x,rr_y,rr_e, linestyle='dotted', marker='*')\n",
    "\n",
    "plt.xlabel(\"Degree of polynomial expansion\")\n",
    "plt.ylabel(\"Accuracy\")\n",
    "\n",
    "plt.legend([\"least squares\", \"ridge regression, $\\lambda=1e-8$\"])\n",
    "\n",
    "plt.tight_layout()\n",
    "plt.savefig(\"augmentation.pdf\")\n",
    "plt.show()"
   ]
  },
  {
   "cell_type": "code",
   "execution_count": null,
   "metadata": {},
   "outputs": [],
   "source": []
  },
  {
   "cell_type": "markdown",
   "metadata": {},
   "source": [
    "# Create a (simple) submission"
   ]
  },
  {
   "cell_type": "code",
   "execution_count": 44,
   "metadata": {},
   "outputs": [],
   "source": [
    "DATA_TEST_PATH = \"../data/test.csv\"\n",
    "_, tx_test, ids_test = load_csv_data(DATA_TEST_PATH)"
   ]
  },
  {
   "cell_type": "code",
   "execution_count": 34,
   "metadata": {},
   "outputs": [],
   "source": [
    "OUTPUT_PATH  = \"../data/predictions.csv\"\n",
    "\n",
    "weights, _ = ridge_regression(labels, tx, lambda_)\n",
    "labels_test = predict_labels(weights, tx_test)\n",
    "create_csv_submission(ids_test, labels_test, OUTPUT_PATH)"
   ]
  },
  {
   "cell_type": "markdown",
   "metadata": {},
   "source": [
    "## Separating data by group"
   ]
  },
  {
   "cell_type": "code",
   "execution_count": 4,
   "metadata": {},
   "outputs": [],
   "source": [
    "useless_features = {\n",
    "    0: [\"DER_deltaeta_jet_jet\", \"DER_mass_jet_jet\", \"DER_prodeta_jet_jet\", \"DER_lep_eta_centrality\",\n",
    "        \"PRI_jet_leading_pt\", \"PRI_jet_leading_eta\", \"PRI_jet_leading_phi\",\n",
    "        \"PRI_jet_subleading_pt\", \"PRI_jet_subleading_eta\", \"PRI_jet_subleading_phi\",\"PRI_jet_all_pt\"\n",
    "       ],\n",
    "    1: [\"DER_deltaeta_jet_jet\", \"DER_mass_jet_jet\", \"DER_prodeta_jet_jet\", \"DER_lep_eta_centrality\",\n",
    "        \"PRI_jet_subleading_pt\", \"PRI_jet_subleading_eta\", \"PRI_jet_subleading_phi\"\n",
    "       ],\n",
    "    2: [],\n",
    "    3: []\n",
    "}\n",
    "\n",
    "\n",
    "def group_by_jet_num(y, tx, jet_num):\n",
    "    indices = np.where(tx[:, categorical_variable] == jet_num)\n",
    "    useless = useless_features[jet_num] + [\"PRI_jet_num\"]\n",
    "    useless_indices = [feature_names.index(feat) for feat in useless]\n",
    "    tx_ = np.delete(tx, useless_indices, axis=1)\n",
    "    return [y[indices], tx_[indices]]\n",
    "\n",
    "\n",
    "def group_data(y, tx):\n",
    "    data_grouped = [\n",
    "        group_by_jet_num(y, tx, jet_num)\n",
    "        for jet_num in range(4)\n",
    "    ]\n",
    "    # Create one single group for jet_nums 2 and 3\n",
    "    data_grouped[2][0] = np.concatenate([data_grouped[2][0], data_grouped[3][0]])\n",
    "    data_grouped[2][1] = np.concatenate([data_grouped[2][1], data_grouped[3][1]])\n",
    "    data_grouped.pop(3)\n",
    "    return data_grouped"
   ]
  },
  {
   "cell_type": "code",
   "execution_count": 30,
   "metadata": {},
   "outputs": [],
   "source": [
    "labels, data, _ = load_csv_data(DATA_TRAIN_PATH)"
   ]
  },
  {
   "cell_type": "code",
   "execution_count": 38,
   "metadata": {},
   "outputs": [
    {
     "name": "stderr",
     "output_type": "stream",
     "text": [
      "/usr/lib/python3.8/site-packages/numpy/core/_asarray.py:83: VisibleDeprecationWarning: Creating an ndarray from ragged nested sequences (which is a list-or-tuple of lists-or-tuples-or ndarrays with different lengths or shapes) is deprecated. If you meant to do this, you must specify 'dtype=object' when creating the ndarray\n",
      "  return array(a, dtype, copy=False, order=order)\n"
     ]
    },
    {
     "data": {
      "text/plain": [
       "array([0.82189334, 0.00310215])"
      ]
     },
     "execution_count": 38,
     "metadata": {},
     "output_type": "execute_result"
    }
   ],
   "source": [
    "y = normalize_labels(labels)\n",
    "\n",
    "avg_acc = np.zeros(2)\n",
    "lambda_ = 1e-8\n",
    "method = lambda y, tx: ridge_regression(y, tx, lambda_)\n",
    "\n",
    "data_grouped = group_data(y, data)\n",
    "for y, tx in data_grouped:\n",
    "    indices = build_k_indices(len(y), 5)\n",
    "    avg_acc += cross_validation(y, tx, indices, method)\n",
    "avg_acc / len(data_grouped)"
   ]
  },
  {
   "cell_type": "markdown",
   "metadata": {},
   "source": [
    "## Create a submission"
   ]
  },
  {
   "cell_type": "code",
   "execution_count": 5,
   "metadata": {
    "collapsed": false,
    "jupyter": {
     "outputs_hidden": false
    }
   },
   "outputs": [],
   "source": [
    "from validation import normalize, feature_expansion\n",
    "from implementations import *\n",
    "from proj1_helpers import *\n",
    "\n",
    "DATA_TRAIN_PATH = \"../data/train.csv\"\n",
    "DATA_TEST_PATH = \"../data/test.csv\"\n",
    "\n",
    "labels, data, _ = load_csv_data(DATA_TRAIN_PATH)\n",
    "_, tx_test, ids_test = load_csv_data(DATA_TEST_PATH)"
   ]
  },
  {
   "cell_type": "code",
   "execution_count": 8,
   "metadata": {
    "collapsed": false,
    "jupyter": {
     "outputs_hidden": false
    }
   },
   "outputs": [],
   "source": [
    "feature_names = [\"DER_mass_MMC\",\"DER_mass_transverse_met_lep\",\"DER_mass_vis\",\"DER_pt_h\",\"DER_deltaeta_jet_jet\",\"DER_mass_jet_jet\",\"DER_prodeta_jet_jet\",\"DER_deltar_tau_lep\",\"DER_pt_tot\",\"DER_sum_pt\",\"DER_pt_ratio_lep_tau\",\"DER_met_phi_centrality\",\"DER_lep_eta_centrality\",\"PRI_tau_pt\",\"PRI_tau_eta\",\"PRI_tau_phi\",\"PRI_lep_pt\",\"PRI_lep_eta\",\"PRI_lep_phi\",\"PRI_met\",\"PRI_met_phi\",\"PRI_met_sumet\",\"PRI_jet_num\",\"PRI_jet_leading_pt\",\"PRI_jet_leading_eta\",\"PRI_jet_leading_phi\",\"PRI_jet_subleading_pt\",\"PRI_jet_subleading_eta\",\"PRI_jet_subleading_phi\",\"PRI_jet_all_pt\"]\n",
    "categorical_variable = feature_names.index(\"PRI_jet_num\")\n",
    "\n",
    "\n",
    "lambda_ = 1e-8\n",
    "\n",
    "def calculate_weights(y, tx):     \n",
    "    mean, std = np.mean(tx, axis=0), np.std(tx, axis=0)\n",
    "    tx = feature_expansion(normalize(tx, mean, std))\n",
    "    weights, _ = ridge_regression(y, tx, lambda_)\n",
    "    return (weights, mean, std)\n",
    "\n",
    "w_by_group = [calculate_weights(y, tx) for y, tx in group_data(labels, data)]"
   ]
  },
  {
   "cell_type": "code",
   "execution_count": 10,
   "metadata": {
    "collapsed": false,
    "jupyter": {
     "outputs_hidden": false
    }
   },
   "outputs": [],
   "source": [
    "OUTPUT_PATH = '../data/predictions.csv'\n",
    "\n",
    "def predict_labels_grouped(w_by_group, ids, data):\n",
    "    \"\"\"Generates class predictions given weights, and a test data matrix\"\"\"\n",
    "    data_grouped = group_data(ids, data) # List[ (Id, tX)]\n",
    "    y_pred = np.array([])\n",
    "    ids_pred = np.array([])\n",
    "    for group, (w, mean, std) in zip(data_grouped, w_by_group):\n",
    "        ids, tx = group\n",
    "        tx = feature_expansion(normalize(tx, mean, std))\n",
    "        y_pred = np.concatenate([y_pred, tx @ w])\n",
    "        ids_pred = np.concatenate([ids_pred, ids])\n",
    "    y_pred[y_pred > 0] = 1\n",
    "    y_pred[y_pred <= 0] = -1\n",
    "    return y_pred, ids_pred\n",
    "\n",
    "y_pred, ids_pred = predict_labels_grouped(w_by_group, ids_test, tx_test)\n",
    "pred_arr = np.column_stack((ids_pred, y_pred))\n",
    "sorted_pred = pred_arr[pred_arr[:,0].argsort()]\n",
    "\n",
    "create_csv_submission(sorted_pred[:, 0], sorted_pred[:, 1], OUTPUT_PATH)"
   ]
  },
  {
   "cell_type": "code",
   "execution_count": 12,
   "metadata": {},
   "outputs": [
    {
     "data": {
      "text/plain": [
       "0.3156846251042697"
      ]
     },
     "execution_count": 12,
     "metadata": {},
     "output_type": "execute_result"
    }
   ],
   "source": [
    "sum(y_pred[y_pred == 1]) / len(y_pred)"
   ]
  }
 ],
 "metadata": {
  "anaconda-cloud": {},
  "kernelspec": {
   "display_name": "Python 3",
   "language": "python",
   "name": "python3"
  },
  "language_info": {
   "codemirror_mode": {
    "name": "ipython",
    "version": 3
   },
   "file_extension": ".py",
   "mimetype": "text/x-python",
   "name": "python",
   "nbconvert_exporter": "python",
   "pygments_lexer": "ipython3",
   "version": "3.8.6"
  }
 },
 "nbformat": 4,
 "nbformat_minor": 4
}
