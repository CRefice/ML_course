{
 "cells": [
  {
   "cell_type": "code",
   "execution_count": 1,
   "metadata": {},
   "outputs": [],
   "source": [
    "# Useful starting lines\n",
    "%matplotlib inline\n",
    "import numpy as np\n",
    "import matplotlib.pyplot as plt\n",
    "from proj1_helpers import *\n",
    "import pandas as pd\n",
    "%load_ext autoreload\n",
    "%autoreload 2"
   ]
  },
  {
   "cell_type": "markdown",
   "metadata": {},
   "source": [
    "# Load the training data into feature matrix, class labels, and event ids:"
   ]
  },
  {
   "cell_type": "code",
   "execution_count": 2,
   "metadata": {
    "collapsed": false,
    "jupyter": {
     "outputs_hidden": false
    }
   },
   "outputs": [],
   "source": [
    "DATA_TRAIN_PATH = \"../data/train.csv\"\n",
    "labels, data, ids = load_csv_data(DATA_TRAIN_PATH)"
   ]
  },
  {
   "cell_type": "code",
   "execution_count": 3,
   "metadata": {},
   "outputs": [],
   "source": [
    "feature_names = [\"DER_mass_MMC\",\"DER_mass_transverse_met_lep\",\"DER_mass_vis\",\"DER_pt_h\",\"DER_deltaeta_jet_jet\",\"DER_mass_jet_jet\",\"DER_prodeta_jet_jet\",\"DER_deltar_tau_lep\",\"DER_pt_tot\",\"DER_sum_pt\",\"DER_pt_ratio_lep_tau\",\"DER_met_phi_centrality\",\"DER_lep_eta_centrality\",\"PRI_tau_pt\",\"PRI_tau_eta\",\"PRI_tau_phi\",\"PRI_lep_pt\",\"PRI_lep_eta\",\"PRI_lep_phi\",\"PRI_met\",\"PRI_met_phi\",\"PRI_met_sumet\",\"PRI_jet_num\",\"PRI_jet_leading_pt\",\"PRI_jet_leading_eta\",\"PRI_jet_leading_phi\",\"PRI_jet_subleading_pt\",\"PRI_jet_subleading_eta\",\"PRI_jet_subleading_phi\",\"PRI_jet_all_pt\"]\n",
    "categorical_variable = feature_names.index(\"PRI_jet_num\")"
   ]
  },
  {
   "cell_type": "markdown",
   "metadata": {},
   "source": [
    "# Exploratory data analysis"
   ]
  },
  {
   "cell_type": "markdown",
   "metadata": {},
   "source": [
    "How many events are there compared to non-events?"
   ]
  },
  {
   "cell_type": "code",
   "execution_count": 4,
   "metadata": {},
   "outputs": [
    {
     "data": {
      "image/png": "[encoded data removed]",
      "text/plain": [
       "<Figure size 432x288 with 1 Axes>"
      ]
     },
     "metadata": {
      "needs_background": "light"
     },
     "output_type": "display_data"
    }
   ],
   "source": [
    "events = np.count_nonzero(labels == 1)\n",
    "nonevents = len(labels) - events\n",
    "plt.bar([\"Events\", \"Background\"], [events, nonevents])\n",
    "plt.show()"
   ]
  },
  {
   "cell_type": "markdown",
   "metadata": {},
   "source": [
    "There's roughly twice as many background noise as there are events in the training set. We have to be careful of this fact when using cross-validation."
   ]
  },
  {
   "cell_type": "markdown",
   "metadata": {},
   "source": [
    "How is it distributed with regards to PRI_jet_num?"
   ]
  },
  {
   "cell_type": "code",
   "execution_count": 6,
   "metadata": {},
   "outputs": [
    {
     "data": {
      "image/png": "[encoded data removed]",
      "text/plain": [
       "<Figure size 432x288 with 1 Axes>"
      ]
     },
     "metadata": {
      "needs_background": "light"
     },
     "output_type": "display_data"
    }
   ],
   "source": [
    "events = data[np.where(labels == 1)]\n",
    "nonevents = data[np.where(labels != 1)]\n",
    "\n",
    "unique, counts = np.unique(nonevents[:,categorical_variable], return_counts=True)\n",
    "plt.bar(unique, counts)\n",
    "_, counts2 = np.unique(events[:,categorical_variable], return_counts=True)\n",
    "plt.bar(unique, counts2, bottom=counts)\n",
    "plt.legend([\"Background\", \"Event\"])\n",
    "plt.title(\"Frequency of categorical variable PRI_jet_num\")\n",
    "plt.show()"
   ]
  },
  {
   "cell_type": "markdown",
   "metadata": {},
   "source": [
    "## Which features should be merged together?"
   ]
  },
  {
   "cell_type": "code",
   "execution_count": 9,
   "metadata": {},
   "outputs": [],
   "source": [
    "def generate_correlation_set(tX, t):\n",
    "    corr_set = set()\n",
    "    df = pd.DataFrame(tX)\n",
    "    corr = df.corr()\n",
    "    for i, row in enumerate(corr):\n",
    "        for j, col in enumerate(corr):\n",
    "            if i != j and corr.loc[i,j] > t:\n",
    "                corr_set.add((i,j))\n",
    "                \n",
    "    return _pairs_to_groups(corr_set)\n",
    "\n",
    "def _pairs_to_groups(pairs):\n",
    "    groups = set()\n",
    "    edges = _create_dict_from_tuples(pairs)\n",
    "    vertices = edges.keys()\n",
    "    done = set()\n",
    "\n",
    "    for vertex in vertices:\n",
    "        if vertex not in done:\n",
    "            groups.add(frozenset(_depth_first_search(vertex, edges, done)))\n",
    "\n",
    "    return groups\n",
    "\n",
    "def _depth_first_search(vertex, edges, done):\n",
    "    group = {vertex}\n",
    "    done.add(vertex)\n",
    "\n",
    "    for v_adj in edges[vertex]:\n",
    "        if v_adj not in done:\n",
    "            group.update(_depth_first_search(v_adj, edges, done))\n",
    "\n",
    "    return group\n",
    "\n",
    "def _create_dict_from_tuples(tuples):\n",
    "    dict_ = dict()\n",
    "\n",
    "    for x, y in tuples:\n",
    "        if x not in dict_:\n",
    "            dict_[x] = set()\n",
    "        dict_[x].add(y)\n",
    "\n",
    "    return dict_"
   ]
  },
  {
   "cell_type": "code",
   "execution_count": 18,
   "metadata": {},
   "outputs": [
    {
     "name": "stdout",
     "output_type": "stream",
     "text": [
      "PRI_jet_leading_eta\n",
      "PRI_jet_leading_phi\n",
      "PRI_jet_leading_pt\n",
      "\n",
      "DER_deltaeta_jet_jet\n",
      "DER_prodeta_jet_jet\n",
      "PRI_jet_subleading_pt\n",
      "PRI_jet_subleading_eta\n",
      "DER_lep_eta_centrality\n",
      "PRI_jet_subleading_phi\n",
      "\n",
      "DER_sum_pt\n",
      "PRI_jet_all_pt\n",
      "\n"
     ]
    }
   ],
   "source": [
    "for s in generate_correlation_set(data, 0.96):\n",
    "    for i in s:\n",
    "        print(feature_names[i])\n",
    "    print()"
   ]
  },
  {
   "cell_type": "markdown",
   "metadata": {},
   "source": [
    "# Data processing"
   ]
  },
  {
   "cell_type": "markdown",
   "metadata": {},
   "source": [
    "There's a few different approaches we could take for feature processing:\n",
    "1. Divide the dataset into four, one for each categorical variable.\n",
    "2. Split the categorical variable into multiple boolean columns, one for each type it could be.\n",
    "\n",
    "Regardless, the data should be properly normalized beforehand (made exception for the categorical variable), as not normalizing it leads to overflows when running any sort of regression"
   ]
  },
  {
   "cell_type": "code",
   "execution_count": 7,
   "metadata": {},
   "outputs": [],
   "source": [
    "mean, std = np.mean(data, axis=0), np.std(data, axis=0)"
   ]
  },
  {
   "cell_type": "markdown",
   "metadata": {},
   "source": [
    "Logistic regression expects labels to be of the form {0, 1}.  \n",
    "Since the labels given to us are instead of the form {-1, 1}, we also need to normalize them to use logistic regression.\n",
    "Other forms of regression work well no matter the form of the labels, so we stick with {0, 1}"
   ]
  },
  {
   "cell_type": "code",
   "execution_count": 8,
   "metadata": {},
   "outputs": [],
   "source": [
    "def normalize_labels(labels):\n",
    "    return np.round((labels + 1) / 2)"
   ]
  },
  {
   "cell_type": "markdown",
   "metadata": {},
   "source": [
    "## Compare methods & Optimize hyperparameters\n",
    "Let's see which of the regression methods performs best using k-fold cross validation"
   ]
  },
  {
   "cell_type": "code",
   "execution_count": 22,
   "metadata": {},
   "outputs": [],
   "source": [
    "from validation import *\n",
    "from implementations import *\n",
    "\n",
    "y = normalize_labels(labels)\n",
    "tx = data"
   ]
  },
  {
   "cell_type": "code",
   "execution_count": null,
   "metadata": {},
   "outputs": [],
   "source": [
    "k = 6\n",
    "indices = build_k_indices(len(y), k)\n",
    "cross_validation(y, tx, indices,)"
   ]
  },
  {
   "cell_type": "code",
   "execution_count": 13,
   "metadata": {},
   "outputs": [],
   "source": [
    "def cartesian_product(x, y):\n",
    "    return np.transpose([np.tile(x, len(y)), np.repeat(y, len(x))])"
   ]
  },
  {
   "cell_type": "code",
   "execution_count": 18,
   "metadata": {},
   "outputs": [],
   "source": [
    "max_iters = 150\n",
    "initial_w = np.zeros(tx.shape[1])\n",
    "gammas = np.logspace(-20, -10, 10)\n",
    "lambdas = np.logspace(-10, 1, 10)\n",
    "hyperparams = cartesian_product(gammas, lambdas)\n",
    "\n",
    "def gradient_descent(train_function):\n",
    "    return lambda y, tx, param: train_function(y, tx, initial_w, max_iters, param)\n",
    "\n",
    "def gradient_descent_multi(train_function):\n",
    "    return lambda y, tx, param: train_function(y, tx, initial_w, max_iters, *param)"
   ]
  },
  {
   "cell_type": "code",
   "execution_count": 19,
   "metadata": {},
   "outputs": [
    {
     "name": "stdout",
     "output_type": "stream",
     "text": [
      "Best hyperparam for iteration 0: 2.1544346900318778e-17\n",
      "Best hyperparam for iteration 1: 1e-20\n",
      "Best hyperparam for iteration 2: 1.6681005372000558e-18\n",
      "Best hyperparam for iteration 3: 1e-20\n",
      "Best hyperparam for iteration 4: 1e-20\n",
      "Best hyperparam for iteration 5: 1.2915496650148828e-19\n",
      "\n",
      "Best hyperparam for iteration 0: 1.2915496650148828e-19\n",
      "Best hyperparam for iteration 1: 1e-20\n",
      "Best hyperparam for iteration 2: 1.2915496650148828e-19\n",
      "Best hyperparam for iteration 3: 1.6681005372000558e-18\n",
      "Best hyperparam for iteration 4: 1.6681005372000558e-18\n",
      "Best hyperparam for iteration 5: 1.6681005372000558e-18\n",
      "\n",
      "Best hyperparam for iteration 0: 2.782559402207126e-08\n",
      "Best hyperparam for iteration 1: 4.641588833612782e-07\n",
      "Best hyperparam for iteration 2: 1.6681005372000556e-09\n",
      "Best hyperparam for iteration 3: 4.641588833612782e-07\n",
      "Best hyperparam for iteration 4: 1e-10\n",
      "Best hyperparam for iteration 5: 4.641588833612782e-07\n",
      "\n",
      "Best hyperparam for iteration 0: 1e-20\n",
      "Best hyperparam for iteration 1: 2.1544346900318778e-17\n",
      "Best hyperparam for iteration 2: 1e-20\n",
      "Best hyperparam for iteration 3: 2.1544346900318778e-17\n",
      "Best hyperparam for iteration 4: 1e-20\n",
      "Best hyperparam for iteration 5: 2.1544346900318778e-17\n",
      "\n"
     ]
    }
   ],
   "source": [
    "k = 6\n",
    "indices = build_k_indices(len(y), k)\n",
    "method_results = {\n",
    "    'Least squares GD' : nested_cross_validation(y, tx, indices, gammas, gradient_descent(least_squares_GD)),\n",
    "    'Least squares SGD' : nested_cross_validation(y, tx, indices, gammas, gradient_descent(least_squares_SGD)),\n",
    "    'Explicit least squares' : cross_validation(y, tx, indices, least_squares),\n",
    "    'Ridge regression' : nested_cross_validation(y, tx, indices, lambdas, ridge_regression),\n",
    "    'Logistic regression GD' : nested_cross_validation(y, tx, indices, gammas, gradient_descent(logistic_reg_GD)),\n",
    "    #'Regularized log. regression GD' : nested_cross_validation(y, tx, indices, hyperparams, gradient_descent_multi(penalized_logistic_reg_GD))\n",
    "}"
   ]
  },
  {
   "cell_type": "code",
   "execution_count": 30,
   "metadata": {},
   "outputs": [
    {
     "data": {
      "image/png": "[encoded data removed]",
      "text/plain": [
       "<Figure size 432x288 with 1 Axes>"
      ]
     },
     "metadata": {
      "needs_background": "light"
     },
     "output_type": "display_data"
    }
   ],
   "source": [
    "results = np.array(list(method_results.values()))\n",
    "plt.barh(list(method_results.keys()), results[:, 0], xerr=results[:, 1])\n",
    "plt.xlim(0, 1)\n",
    "plt.xlabel(\"Correct prediction ratio\")\n",
    "plt.title(\"Results of full regression (all variables)\")\n",
    "plt.savefig(\"../figs/regresults.pdf\")\n",
    "plt.show()"
   ]
  },
  {
   "cell_type": "code",
   "execution_count": 31,
   "metadata": {},
   "outputs": [
    {
     "data": {
      "text/plain": [
       "array([[0.65733199, 0.00205806],\n",
       "       [0.65733199, 0.00205806],\n",
       "       [0.74396001, 0.00204243],\n",
       "       [0.74180801, 0.00305346],\n",
       "       [0.65733199, 0.00205806]])"
      ]
     },
     "execution_count": 31,
     "metadata": {},
     "output_type": "execute_result"
    }
   ],
   "source": [
    "results"
   ]
  },
  {
   "cell_type": "code",
   "execution_count": 14,
   "metadata": {},
   "outputs": [],
   "source": [
    "def feature_augmentation(tx, degree):\n",
    "    powers = [np.power(tx, deg) for deg in range(1,degree+1)]\n",
    "    return np.concatenate(powers, axis=1)"
   ]
  },
  {
   "cell_type": "code",
   "execution_count": 17,
   "metadata": {},
   "outputs": [
    {
     "name": "stdout",
     "output_type": "stream",
     "text": [
      "Degree 1: [0.7435519889910868, 0.001162133221486503]\n",
      "Degree 2: [0.700479994585618, 0.0006361664576700189]\n"
     ]
    }
   ],
   "source": [
    "lambda_ = 2e-8\n",
    "k = 6\n",
    "indices = build_k_indices(len(y), k)\n",
    "method = lambda y, tx: ridge_regression(y, tx, lambda_)\n",
    "\n",
    "print(\"Degree 1:\", cross_validation(y, tx, indices, method))\n",
    "print(\"Degree 2:\", cross_validation(y, feature_augmentation(tx, 2), indices, method))"
   ]
  },
  {
   "cell_type": "markdown",
   "metadata": {},
   "source": [
    "# Create a (simple) submission"
   ]
  },
  {
   "cell_type": "code",
   "execution_count": 105,
   "metadata": {},
   "outputs": [],
   "source": [
    "DATA_TEST_PATH = \"../data/test.csv\"\n",
    "_, tx_test, ids_test = load_csv_data(DATA_TEST_PATH)"
   ]
  },
  {
   "cell_type": "code",
   "execution_count": 23,
   "metadata": {},
   "outputs": [
    {
     "ename": "NameError",
     "evalue": "name 'tx_test' is not defined",
     "output_type": "error",
     "traceback": [
      "\u001b[0;31m---------------------------------------------------------------------------\u001b[0m",
      "\u001b[0;31mNameError\u001b[0m                                 Traceback (most recent call last)",
      "\u001b[0;32m<ipython-input-23-6968bfbe724f>\u001b[0m in \u001b[0;36m<module>\u001b[0;34m\u001b[0m\n\u001b[1;32m      2\u001b[0m \u001b[0;34m\u001b[0m\u001b[0m\n\u001b[1;32m      3\u001b[0m \u001b[0mweights\u001b[0m\u001b[0;34m,\u001b[0m \u001b[0m_\u001b[0m \u001b[0;34m=\u001b[0m \u001b[0mridge_regression\u001b[0m\u001b[0;34m(\u001b[0m\u001b[0mlabels\u001b[0m\u001b[0;34m,\u001b[0m \u001b[0mtx\u001b[0m\u001b[0;34m,\u001b[0m \u001b[0mlambda_\u001b[0m\u001b[0;34m)\u001b[0m\u001b[0;34m\u001b[0m\u001b[0;34m\u001b[0m\u001b[0m\n\u001b[0;32m----> 4\u001b[0;31m \u001b[0mlabels_test\u001b[0m \u001b[0;34m=\u001b[0m \u001b[0mpredict_labels\u001b[0m\u001b[0;34m(\u001b[0m\u001b[0mweights\u001b[0m\u001b[0;34m,\u001b[0m \u001b[0mtx_test\u001b[0m\u001b[0;34m)\u001b[0m\u001b[0;34m\u001b[0m\u001b[0;34m\u001b[0m\u001b[0m\n\u001b[0m\u001b[1;32m      5\u001b[0m \u001b[0mcreate_csv_submission\u001b[0m\u001b[0;34m(\u001b[0m\u001b[0mids_test\u001b[0m\u001b[0;34m,\u001b[0m \u001b[0mlabels_test\u001b[0m\u001b[0;34m,\u001b[0m \u001b[0mOUTPUT_PATH\u001b[0m\u001b[0;34m)\u001b[0m\u001b[0;34m\u001b[0m\u001b[0;34m\u001b[0m\u001b[0m\n",
      "\u001b[0;31mNameError\u001b[0m: name 'tx_test' is not defined"
     ]
    }
   ],
   "source": [
    "OUTPUT_PATH  = \"../data/predictions.csv\"\n",
    "\n",
    "weights, _ = ridge_regression(labels, tx, lambda_)\n",
    "labels_test = predict_labels(weights, tx_test)\n",
    "create_csv_submission(ids_test, labels_test, OUTPUT_PATH)"
   ]
  },
  {
   "cell_type": "markdown",
   "metadata": {},
   "source": [
    "## Separating data by group"
   ]
  },
  {
   "cell_type": "code",
   "execution_count": 26,
   "metadata": {},
   "outputs": [],
   "source": [
    "useless_features = {\n",
    "    0: [\"DER_deltaeta_jet_jet\", \"DER_mass_jet_jet\", \"DER_prodeta_jet_jet\", \"DER_lep_eta_centrality\",\n",
    "        \"PRI_jet_leading_pt\", \"PRI_jet_leading_eta\", \"PRI_jet_leading_phi\",\n",
    "        \"PRI_jet_subleading_pt\", \"PRI_jet_subleading_eta\", \"PRI_jet_subleading_phi\",\"PRI_jet_all_pt\"\n",
    "       ],\n",
    "    1: [\"DER_deltaeta_jet_jet\", \"DER_mass_jet_jet\", \"DER_prodeta_jet_jet\", \"DER_lep_eta_centrality\",\n",
    "        \"PRI_jet_subleading_pt\", \"PRI_jet_subleading_eta\", \"PRI_jet_subleading_phi\"\n",
    "       ],\n",
    "    2: [],\n",
    "    3: []\n",
    "}\n",
    "\n",
    "\n",
    "def group_by_jet_num(y, tx, jet_num):\n",
    "    indices = np.where(tx[:, categorical_variable] == jet_num)\n",
    "    useless = useless_features[jet_num] + [\"PRI_jet_num\"]\n",
    "    useless_indices = [feature_names.index(feat) for feat in useless]\n",
    "    tx_ = np.delete(tx, useless_indices, axis=1)\n",
    "    return [y[indices], tx_[indices]]\n",
    "\n",
    "\n",
    "def group_data(y, tx):\n",
    "    data_grouped = [\n",
    "        group_by_jet_num(y, tx, jet_num)\n",
    "        for jet_num in range(4)\n",
    "    ]\n",
    "    # Create one single group for jet_nums 2 and 3\n",
    "    data_grouped[2][0] = np.concatenate([data_grouped[2][0], data_grouped[3][0]])\n",
    "    data_grouped[2][1] = np.concatenate([data_grouped[2][1], data_grouped[3][1]])\n",
    "    data_grouped.pop(3)\n",
    "    return data_grouped\n",
    "\n",
    "data_grouped = group_data(y, data)"
   ]
  },
  {
   "cell_type": "code",
   "execution_count": 37,
   "metadata": {},
   "outputs": [
    {
     "data": {
      "text/plain": [
       "array([0.7940069, 0.0022092])"
      ]
     },
     "execution_count": 37,
     "metadata": {},
     "output_type": "execute_result"
    }
   ],
   "source": [
    "def polynomial_expansion(tx, degree):\n",
    "    powers = [np.power(tx, i) for i in range(2, degree)]\n",
    "    return [tx] + powers\n",
    "\n",
    "\n",
    "def feature_expansion(tx):\n",
    "    return np.concatenate(polynomial_expansion(tx, 3) + [np.sin(tx), np.log(np.abs(tx) + 1e-10)],axis=1)\n",
    "\n",
    "\n",
    "avg_acc = np.zeros(2)\n",
    "for y, tx in data_grouped:\n",
    "    indices = build_k_indices(len(y), 5)\n",
    "    tx = feature_expansion(tx)\n",
    "    avg_acc += cross_validation(y, tx, indices, least_squares)\n",
    "avg_acc / len(data_grouped)"
   ]
  },
  {
   "cell_type": "code",
   "execution_count": 23,
   "metadata": {
    "collapsed": false,
    "jupyter": {
     "outputs_hidden": false
    }
   },
   "outputs": [],
   "source": [
    "from proj1_helpers import *\n",
    "DATA_TRAIN_PATH = \"../data/train.csv\"\n",
    "y, tx, ids = load_csv_data(DATA_TRAIN_PATH)\n",
    "\n",
    "def calculate_weights(y, tx):     \n",
    "    tx = feature_expansion(tx)\n",
    "    weights, _ = least_squares(y, tx)\n",
    "    return weights\n",
    "\n",
    "w_by_group = [calculate_weights(y, tx) for y, tx in group_data(y, tx)]"
   ]
  },
  {
   "cell_type": "code",
   "execution_count": 25,
   "metadata": {
    "collapsed": false,
    "jupyter": {
     "outputs_hidden": false
    }
   },
   "outputs": [],
   "source": [
    "OUTPUT_PATH = 'predictions.csv'\n",
    "\n",
    "def predict_labels_grouped(w_by_group, ids, data):\n",
    "    \"\"\"Generates class predictions given weights, and a test data matrix\"\"\"\n",
    "    data_grouped = group_data(ids, data) # List[ (Id, tX)]\n",
    "    y_pred = np.array([])\n",
    "    ids_pred = np.array([])\n",
    "    for group, w in zip(data_grouped, w_by_group):\n",
    "        ids, tx = group\n",
    "        tx = feature_expansion(tx)\n",
    "        y_pred = np.concatenate([y_pred, tx @ w])\n",
    "        ids_pred = np.concatenate([ids_pred, ids])\n",
    "    y_pred[y_pred > 0] = 1\n",
    "    y_pred[y_pred <= 0] = -1\n",
    "    return y_pred, ids_pred\n",
    "\n",
    "y_pred, ids_pred = predict_labels_grouped(w_by_group, ids_test, tX_test)\n",
    "pred_arr = np.column_stack((ids_pred, y_pred))\n",
    "sorted_pred = pred_arr[pred_arr[:,0].argsort()]\n",
    "\n",
    "create_csv_submission(sorted_pred[:, 0], sorted_pred[:, 1], OUTPUT_PATH)"
   ]
  },
  {
   "cell_type": "code",
   "execution_count": null,
   "metadata": {},
   "outputs": [],
   "source": []
  }
 ],
 "metadata": {
  "anaconda-cloud": {},
  "kernelspec": {
   "display_name": "Python 3",
   "language": "python",
   "name": "python3"
  },
  "language_info": {
   "codemirror_mode": {
    "name": "ipython",
    "version": 3
   },
   "file_extension": ".py",
   "mimetype": "text/x-python",
   "name": "python",
   "nbconvert_exporter": "python",
   "pygments_lexer": "ipython3",
   "version": "3.8.6"
  }
 },
 "nbformat": 4,
 "nbformat_minor": 4
}
