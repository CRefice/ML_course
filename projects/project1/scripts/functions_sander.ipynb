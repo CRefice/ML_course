{
 "cells": [
  {
   "cell_type": "code",
   "execution_count": 14,
   "metadata": {},
   "outputs": [],
   "source": [
    "import numpy as np"
   ]
  },
  {
   "cell_type": "markdown",
   "metadata": {},
   "source": [
    "# Functions"
   ]
  },
  {
   "cell_type": "code",
   "execution_count": 15,
   "metadata": {},
   "outputs": [],
   "source": [
    "\"\"\"Computes the prototypes using least-squares with Gradient Descent\"\"\"\n",
    "def least_squares_GD(y, tx, initial_w, max_iters, gamma):\n",
    "    w = initial_w\n",
    "    \n",
    "    for _ in range(max_iters):\n",
    "        w = w - gamma * compute_gradient(y, tx, w)\n",
    "        \n",
    "    loss = compute_loss(y, tx, w)\n",
    "    \n",
    "    return (w, loss)\n",
    "\n",
    "\"\"\"Computes the prototypes using least-squares with Stochastic Gradient Descent\"\"\"\n",
    "def least_squares_SGD(y, tx, initial_w, max_iters, gamma):\n",
    "    w = initial_w\n",
    "    \n",
    "    for mini_y, mini_tx in batch_iter(y, tx, 1, max_iters):\n",
    "        w = w - gamme * compute_gradient(mini_y, mini_tx, w)\n",
    "    \n",
    "    loss = compute_loss(y, tx, w)\n",
    "    \n",
    "    return (w, loss)\n",
    "\n",
    "\"\"\"Directly computes optimal prototypes using the normal equations of least-squares\"\"\"\n",
    "def least_squares(y, tx):\n",
    "    tx_t = np.transpose(tx)\n",
    "    gram = np.dot(tx_t,tx)\n",
    "    w = np.dot( np.dot( np.linalg.inv(gram), tx_t ), y)\n",
    "    \n",
    "    loss = compute_loss(y, tx, w)\n",
    "    \n",
    "    return (w, loss)"
   ]
  },
  {
   "cell_type": "markdown",
   "metadata": {},
   "source": [
    "# Helper functions"
   ]
  },
  {
   "cell_type": "code",
   "execution_count": 3,
   "metadata": {},
   "outputs": [],
   "source": [
    "\"\"\"Calculates the loss via MSE\"\"\"\n",
    "def compute_loss(y, tx, w):\n",
    "    e = y - np.dot(tx,w)\n",
    "    n = y.shape[0]\n",
    "    return (1/n) * (np.dot(np.transpose(e),e))\n",
    "\n",
    "\"\"\"Computes the gradient\"\"\"\n",
    "def compute_gradient(y, tx, w):\n",
    "    n = y.shape[0]\n",
    "    e = y - np.dot(tx,w)\n",
    "    \n",
    "    return (-1/n) * np.dot(np.transpose(tx),e)\n",
    "\n",
    "\"\"\"\n",
    "    Generate a minibatch iterator for a dataset.\n",
    "    Takes as input two iterables (here the output desired values 'y' and the input data 'tx')\n",
    "    Outputs an iterator which gives mini-batches of `batch_size` matching elements from `y` and `tx`.\n",
    "    Data can be randomly shuffled to avoid ordering in the original data messing with the randomness of the minibatches.\n",
    "    Example of use :\n",
    "    for minibatch_y, minibatch_tx in batch_iter(y, tx, 32):\n",
    "\"\"\"\n",
    "def batch_iter(y, tx, batch_size, num_batches=1, shuffle=True):\n",
    "    data_size = len(y)\n",
    "\n",
    "    if shuffle:\n",
    "        shuffle_indices = np.random.permutation(np.arange(data_size))\n",
    "        shuffled_y = y[shuffle_indices]\n",
    "        shuffled_tx = tx[shuffle_indices]\n",
    "    else:\n",
    "        shuffled_y = y\n",
    "        shuffled_tx = tx\n",
    "    for batch_num in range(num_batches):\n",
    "        start_index = batch_num * batch_size\n",
    "        end_index = min((batch_num + 1) * batch_size, data_size)\n",
    "        if start_index != end_index:\n",
    "            yield shuffled_y[start_index:end_index], shuffled_tx[start_index:end_index]"
   ]
  }
 ],
 "metadata": {
  "kernelspec": {
   "display_name": "Python 3",
   "language": "python",
   "name": "python3"
  },
  "language_info": {
   "codemirror_mode": {
    "name": "ipython",
    "version": 3
   },
   "file_extension": ".py",
   "mimetype": "text/x-python",
   "name": "python",
   "nbconvert_exporter": "python",
   "pygments_lexer": "ipython3",
   "version": "3.6.9"
  }
 },
 "nbformat": 4,
 "nbformat_minor": 4
}
